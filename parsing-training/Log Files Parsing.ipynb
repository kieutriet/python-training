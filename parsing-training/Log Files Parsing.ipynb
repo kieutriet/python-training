{
 "cells": [
  {
   "cell_type": "code",
   "execution_count": null,
   "metadata": {},
   "outputs": [],
   "source": [
    "paths = 'logs\\\\DebugLog2020-07-30T16.log'"
   ]
  },
  {
   "cell_type": "code",
   "execution_count": null,
   "metadata": {},
   "outputs": [],
   "source": [
    "### READ FILE CONTENT ###\n",
    "\n",
    "file = open(paths, \"r\")\n",
    "print(file.read())\n",
    "file.close()"
   ]
  },
  {
   "cell_type": "code",
   "execution_count": null,
   "metadata": {},
   "outputs": [],
   "source": [
    "### WRITE FILE CONTENT ###\n",
    "\n",
    "file = open('test.txt', \"w\")\n",
    "file.write(\"Yay Congratulations!!!\")\n",
    "file.close()"
   ]
  },
  {
   "cell_type": "code",
   "execution_count": null,
   "metadata": {},
   "outputs": [],
   "source": [
    "### OPEN FILE WITH 'WITH' ###\n",
    "\n",
    "with open(paths, \"r\") as file:\n",
    "    print(file.read())"
   ]
  },
  {
   "cell_type": "code",
   "execution_count": null,
   "metadata": {},
   "outputs": [],
   "source": [
    "import csv\n",
    "\n",
    "paths = 'logs\\\\DebugLog2020-07-30T16.log'\n",
    "\n",
    "with open('out/result.csv', 'w') as csvOutput:\n",
    "    writer = csv.writer(csvOutput, delimiter=',', lineterminator='\\n')\n",
    "    writer.writerow(['datetime', 'x-position', 'y-position'])"
   ]
  },
  {
   "cell_type": "code",
   "execution_count": null,
   "metadata": {},
   "outputs": [],
   "source": [
    "### GET DESIRED LINES ###\n",
    "\n",
    "import csv\n",
    "\n",
    "paths = 'logs\\\\DebugLog2020-07-30T16.log'\n",
    "\n",
    "with open('out/result.csv', 'w') as csvOutput:\n",
    "    writer = csv.writer(csvOutput, delimiter=',', lineterminator='\\n')\n",
    "    writer.writerow(['datetime', 'x-position', 'y-position'])\n",
    "\n",
    "    with open(paths, 'r') as inFile:\n",
    "        for line in inFile:\n",
    "            if 'Reached pos' in line:\n",
    "                print(line)"
   ]
  },
  {
   "cell_type": "code",
   "execution_count": null,
   "metadata": {},
   "outputs": [],
   "source": [
    "### GET DATETIMES ####\n",
    "\n",
    "import csv\n",
    "\n",
    "paths = 'logs\\\\DebugLog2020-07-30T16.log'\n",
    "\n",
    "with open('out/result.csv', 'w') as csvOutput:\n",
    "    writer = csv.writer(csvOutput, delimiter=',', lineterminator='\\n')\n",
    "    writer.writerow(['datetime', 'x-position', 'y-position'])\n",
    "\n",
    "    with open(paths, 'r') as inFile:\n",
    "        for line in inFile:\n",
    "            if 'Reached pos' in line:\n",
    "                time = line[1:24]\n",
    "                print(time)"
   ]
  },
  {
   "cell_type": "code",
   "execution_count": null,
   "metadata": {},
   "outputs": [],
   "source": [
    "### GET X POSITIONS ###\n",
    "\n",
    "import re, csv\n",
    "\n",
    "paths = 'logs\\\\DebugLog2020-07-30T16.log'\n",
    "\n",
    "with open('out/result.csv', 'w') as csvOutput:\n",
    "    writer = csv.writer(csvOutput, delimiter=',', lineterminator='\\n')\n",
    "    writer.writerow(['datetime', 'x-position', 'y-position'])\n",
    "\n",
    "    with open(paths, 'r') as inFile:\n",
    "        for line in inFile:\n",
    "            if 'Reached pos' in line:\n",
    "                time = line[1:24]\n",
    "                pos = re.search('x: (.*), y', line)\n",
    "                x = pos.group(1)\n",
    "                print(x)"
   ]
  },
  {
   "cell_type": "code",
   "execution_count": null,
   "metadata": {},
   "outputs": [],
   "source": [
    "import re, csv\n",
    "\n",
    "paths = 'logs\\\\DebugLog2020-07-30T16.log'\n",
    "\n",
    "def parsingFiles():\n",
    "    \n",
    "    with open('out/result.csv', 'w') as csvOutput:\n",
    "        writer = csv.writer(csvOutput, delimiter=',', lineterminator='\\n')\n",
    "        writer.writerow(['datetime', 'x-position', 'y-position'])\n",
    "        \n",
    "        with open(paths, 'r') as inFile:\n",
    "            for line in inFile:\n",
    "                if 'Reached pos' in line:\n",
    "                    time = line[1:24]\n",
    "                    pos = re.search('x: (.*), y: (.*), z', line)\n",
    "                    x, y = pos.group(1), pos.group(2)\n",
    "                    writer.writerow([time, x, y])\n",
    "\n",
    "\n",
    "parsingFiles()"
   ]
  },
  {
   "cell_type": "code",
   "execution_count": null,
   "metadata": {},
   "outputs": [],
   "source": [
    "### COMPLETE PROJECT ####\n",
    "\n",
    "import glob, re, csv, math\n",
    "from datetime import datetime\n",
    "\n",
    "\n",
    "paths = glob.glob(\"logs/*.log\")\n",
    "\n",
    "def combineFiles():\n",
    "    \n",
    "    prev_datetime = datetime(2020,1,1)\n",
    "    \n",
    "    prev_x = 0\n",
    "    prev_y = 0\n",
    "    \n",
    "    with open('out/combine.csv', 'w') as csvOutput:\n",
    "        writer = csv.writer(csvOutput, delimiter=',', lineterminator='\\n')\n",
    "        writer.writerow(['datetime', 'x-position', 'y-position', 'time_delta', 'pos_delta'])\n",
    "        \n",
    "        \n",
    "        for file in paths:\n",
    "            with open(file, 'r') as inFile:\n",
    "                for line in inFile:\n",
    "                    if 'Reached pos' in line:\n",
    "                        if '--> x' not in line:\n",
    "                            continue\n",
    "                        cur_datetime, cur_x, cur_y = getValues(line)\n",
    "                        \n",
    "                        timeDelta = cur_datetime - prev_datetime\n",
    "                        posDelta = (cur_x-prev_x)**2 + (cur_y-prev_y)**2\n",
    "                        posDelta = math.sqrt(posDelta)\n",
    "                        \n",
    "                        \n",
    "                        prev_datetime = cur_datetime\n",
    "                        prev_x = cur_x\n",
    "                        prev_y = cur_y\n",
    "                        \n",
    "                        if posDelta < 10:\n",
    "                            continue\n",
    "                        if timeDelta.total_seconds() < 24*3600:\n",
    "                            writer.writerow([cur_datetime, cur_x, cur_y, timeDelta.total_seconds(), posDelta])\n",
    "                        else:\n",
    "                            writer.writerow([cur_datetime, cur_x, cur_y, 0, 0])\n",
    "                        \n",
    "def getValues(line):\n",
    "    time = line[1:24]\n",
    "    datetimeObj = datetime.strptime(time, '%Y/%m/%d %H:%M:%S:%f')\n",
    "    pos = re.search('x: (.*), y: (.*), z', line)\n",
    "    x, y = pos.group(1), pos.group(2)\n",
    "    return datetimeObj, float(x), float(y)\n",
    "                        \n",
    "combineFiles()\n"
   ]
  }
 ],
 "metadata": {
  "kernelspec": {
   "display_name": "Python 3",
   "language": "python",
   "name": "python3"
  },
  "language_info": {
   "codemirror_mode": {
    "name": "ipython",
    "version": 3
   },
   "file_extension": ".py",
   "mimetype": "text/x-python",
   "name": "python",
   "nbconvert_exporter": "python",
   "pygments_lexer": "ipython3",
   "version": "3.7.9"
  }
 },
 "nbformat": 4,
 "nbformat_minor": 2
}
